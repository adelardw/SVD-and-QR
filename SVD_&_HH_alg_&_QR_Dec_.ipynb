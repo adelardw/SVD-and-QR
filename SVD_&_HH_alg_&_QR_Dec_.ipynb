{
  "nbformat": 4,
  "nbformat_minor": 0,
  "metadata": {
    "colab": {
      "provenance": [],
      "authorship_tag": "ABX9TyMBlnN5TkE3GUTRhCP9lB8U",
      "include_colab_link": true
    },
    "kernelspec": {
      "name": "python3",
      "display_name": "Python 3"
    },
    "language_info": {
      "name": "python"
    }
  },
  "cells": [
    {
      "cell_type": "markdown",
      "metadata": {
        "id": "view-in-github",
        "colab_type": "text"
      },
      "source": [
        "<a href=\"https://colab.research.google.com/github/adelardw/SVD-and-QR/blob/main/SVD_%26_HH_alg_%26_QR_Dec_.ipynb\" target=\"_parent\"><img src=\"https://colab.research.google.com/assets/colab-badge.svg\" alt=\"Open In Colab\"/></a>"
      ]
    },
    {
      "cell_type": "code",
      "source": [
        "# householder algorithm - transform matrix to upper triangular matrix\n",
        "import numpy as np\n",
        "\n",
        "p = 8\n",
        "\n",
        "b = np.random.uniform(-10,848,(p,p))\n",
        "\n",
        "def householder_method(A:list):\n",
        "  n = len(A)\n",
        "  A = np.array(A)\n",
        "  #zero_iteration\n",
        "  ort = np.zeros(n)\n",
        "  ort[0] = 1\n",
        "\n",
        "  x = list(A.T[0])\n",
        "  s = (np.dot(x,x)**0.5)\n",
        "  u = x - s*ort\n",
        "  f = np.array([u])\n",
        "  P = np.eye(n) - 2*(f*f.T)/np.dot(u,u)\n",
        "  R = np.dot(P,A)\n",
        "\n",
        "  for k in range(1,n - 1):\n",
        "    ort = np.zeros(n)\n",
        "    x = list(R.T[k])\n",
        "    x = np.array(x)\n",
        "    x[:k] = 0\n",
        "    ort[k] = 1\n",
        "    s = (np.dot(x,x)**0.5)\n",
        "    u = x - s*ort\n",
        "    f = np.array([u])\n",
        "    P = np.eye(n) - 2*(f*f.T)/np.dot(u,u)\n",
        "    R = np.dot(P,R)\n",
        "  return np.around(R)\n",
        "\n",
        "\n",
        "householder_method(b)\n"
      ],
      "metadata": {
        "colab": {
          "base_uri": "https://localhost:8080/"
        },
        "id": "kWrt3XaK6Ugm",
        "outputId": "b63cd063-4907-4ea7-894c-e771938d09ff"
      },
      "execution_count": 19,
      "outputs": [
        {
          "output_type": "execute_result",
          "data": {
            "text/plain": [
              "array([[1592.,  430.,  930., 1162.,  909.,  648., 1187.,  834.],\n",
              "       [  -0.,  515.,   49.,  496.,  283.,   79.,  446.,  402.],\n",
              "       [  -0.,    0.,  671.,  408.,  103.,   15.,  434.,  177.],\n",
              "       [   0.,   -0.,   -0.,  541., -145.,   86.,   30.,   20.],\n",
              "       [  -0.,    0.,    0.,    0.,  452.,  236.,   68.,  186.],\n",
              "       [   0.,   -0.,    0.,   -0.,    0.,  668.,  524.,   -9.],\n",
              "       [   0.,   -0.,    0.,    0.,   -0.,   -0.,  469.,  205.],\n",
              "       [   0.,   -0.,   -0.,   -0.,    0.,   -0.,   -0.,  245.]])"
            ]
          },
          "metadata": {},
          "execution_count": 19
        }
      ]
    },
    {
      "cell_type": "code",
      "source": [
        "# QR-decomposition : A = QR: QQ.T = E , R - upper triangular matrix\n",
        "import numpy as np\n",
        "\n",
        "a = np.random.randint(0,2,(8,8))\n",
        "print(a,'\\n')\n",
        "print(\"\\n Numpy Q \\n\",np.around(np.linalg.qr(a)[0],3),\"\\n\\n Numpy R \\n\",np.around(np.linalg.qr(a)[1],3))\n",
        "\n",
        "def QR_decompositon_h(A:list):\n",
        "  n = len(A)\n",
        "  A = np.array(A)\n",
        "  # zero_iteration\n",
        "  Q = np.eye(n)\n",
        "  ort = np.zeros(n)\n",
        "  ort[0] = 1\n",
        "\n",
        "  x = list(A.T[0])\n",
        "  s = (np.dot(x,x)**0.5)\n",
        "  u = x - s*ort\n",
        "  f = np.array([u])\n",
        "  P = np.eye(n) - 2*(f*f.T)/np.dot(u,u)\n",
        "  Q = np.dot(Q,P)\n",
        "  R = np.dot(P,A)\n",
        "\n",
        "  for k in range(1,n-1):\n",
        "    ort = np.zeros(n)\n",
        "    x = list(R.T[k])\n",
        "    x = np.array(x)\n",
        "    x[:k] = 0\n",
        "    ort[k] = 1\n",
        "    s = (np.dot(x,x)**0.5)\n",
        "    u = x - s*ort\n",
        "    f = np.array([u])\n",
        "    P = np.eye(n) - 2*(f*f.T)/np.dot(u,u)\n",
        "    Q = np.dot(Q,P) \n",
        "    R = np.dot(P,R)\n",
        "  return Q, R\n",
        "\n",
        "\n",
        "print(\"Numerical Q \\n\",np.around(QR_decompositon_h(a)[0],3),\"\\n\")\n",
        "print(\"Numerical R \\n\",np.around(QR_decompositon_h(a)[1],3))\n",
        "\n",
        "#print(\"\\n Numpy Q \\n\",np.around(np.linalg.qr(a)[0],3),\"\\n\\n Numpy R \\n\",np.around(np.linalg.qr(a)[1],3))\n"
      ],
      "metadata": {
        "colab": {
          "base_uri": "https://localhost:8080/"
        },
        "id": "GwEYkJpLruQc",
        "outputId": "c285d6b2-b406-4a35-8cc7-906f9a2402ef"
      },
      "execution_count": 20,
      "outputs": [
        {
          "output_type": "stream",
          "name": "stdout",
          "text": [
            "[[0 1 1 1 1 1 1 0]\n",
            " [0 1 1 1 0 0 0 1]\n",
            " [1 1 0 0 1 0 1 1]\n",
            " [1 0 0 0 0 1 0 1]\n",
            " [1 1 1 1 0 0 0 1]\n",
            " [1 0 1 1 1 1 1 1]\n",
            " [1 0 0 1 1 1 1 0]\n",
            " [0 1 1 0 1 1 0 0]] \n",
            "\n",
            "\n",
            " Numpy Q \n",
            " [[ 0.    -0.488  0.179  0.336  0.321  0.323  0.533  0.354]\n",
            " [-0.    -0.488  0.179  0.336 -0.335  0.025 -0.063 -0.707]\n",
            " [-0.447 -0.293 -0.646 -0.144  0.238 -0.365  0.235 -0.177]\n",
            " [-0.447  0.195 -0.072 -0.312 -0.251  0.714  0.235 -0.177]\n",
            " [-0.447 -0.293  0.108  0.024 -0.587 -0.187 -0.204  0.53 ]\n",
            " [-0.447  0.195  0.682 -0.144  0.238 -0.365  0.235 -0.177]\n",
            " [-0.447  0.195 -0.072  0.576  0.363  0.204 -0.502 -0.   ]\n",
            " [-0.    -0.488  0.179 -0.552  0.363  0.204 -0.502  0.   ]] \n",
            "\n",
            " Numpy R \n",
            " [[-2.236 -0.894 -0.894 -1.342 -1.342 -1.342 -1.342 -1.789]\n",
            " [ 0.    -2.049 -1.561 -0.878 -0.878 -0.39  -0.39  -0.683]\n",
            " [ 0.     0.     1.327  1.076  0.323  0.897  0.143  0.251]\n",
            " [ 0.     0.     0.     1.127  0.072 -0.096  0.623 -0.24 ]\n",
            " [ 0.     0.     0.     0.     1.523  1.034  1.16  -0.699]\n",
            " [ 0.     0.     0.     0.     0.     1.079 -0.204 -0.178]\n",
            " [ 0.     0.     0.     0.     0.     0.     0.502  0.439]\n",
            " [ 0.     0.     0.     0.     0.     0.     0.    -0.707]]\n",
            "Numerical Q \n",
            " [[-0.     0.488  0.179  0.336  0.321  0.323  0.533  0.354]\n",
            " [ 0.     0.488  0.179  0.336 -0.335  0.025 -0.063 -0.707]\n",
            " [ 0.447  0.293 -0.646 -0.144  0.238 -0.365  0.235 -0.177]\n",
            " [ 0.447 -0.195 -0.072 -0.312 -0.251  0.714  0.235 -0.177]\n",
            " [ 0.447  0.293  0.108  0.024 -0.587 -0.187 -0.204  0.53 ]\n",
            " [ 0.447 -0.195  0.682 -0.144  0.238 -0.365  0.235 -0.177]\n",
            " [ 0.447 -0.195 -0.072  0.576  0.363  0.204 -0.502 -0.   ]\n",
            " [ 0.     0.488  0.179 -0.552  0.363  0.204 -0.502 -0.   ]] \n",
            "\n",
            "Numerical R \n",
            " [[ 2.236  0.894  0.894  1.342  1.342  1.342  1.342  1.789]\n",
            " [ 0.     2.049  1.561  0.878  0.878  0.39   0.39   0.683]\n",
            " [-0.     0.     1.327  1.076  0.323  0.897  0.143  0.251]\n",
            " [-0.     0.     0.     1.127  0.072 -0.096  0.623 -0.24 ]\n",
            " [-0.    -0.     0.     0.     1.523  1.034  1.16  -0.699]\n",
            " [ 0.     0.    -0.    -0.    -0.     1.079 -0.204 -0.178]\n",
            " [ 0.    -0.     0.    -0.     0.    -0.     0.502  0.439]\n",
            " [-0.    -0.    -0.     0.     0.     0.     0.    -0.707]]\n"
          ]
        }
      ]
    },
    {
      "cell_type": "code",
      "source": [
        "# We should using hessenberg's matrixs or triadiagonal matrixes for QR- algortihm\n",
        "import numpy as np\n",
        "import scipy.linalg as sp\n",
        "\n",
        "\n",
        "g = 10\n",
        "np.random.seed(5)\n",
        "matr = np.random.randint(0,2,(g,g))\n",
        "\n",
        "def hessenberg_matrix(A:list):\n",
        "  n = len(A)\n",
        "  A = np.array(A)\n",
        "  u = np.zeros(n)\n",
        "  for k in range(n-1):\n",
        "    alpha = - np.sign(A[k + 1][k])*np.sqrt((np.array([(A[j][k])**2 for j in range(k + 1,n)])).sum())\n",
        "    r = np.sqrt(0.5*(alpha**2 - A[k + 1][k]*alpha))\n",
        "    u[:k+1] = 0\n",
        "    u[k + 1] = (A[k + 1][k] - alpha)/(2*r)\n",
        "    for j in range(k + 2, n):\n",
        "      u[j] = A[j][k]/(2*r)  \n",
        "    v = np.array([u])\n",
        "    P = np.eye(n) - 2*v*v.T\n",
        "    A = np.dot(np.dot(P,A),P.T)\n",
        "  return np.around(A,8)\n",
        "\n",
        "print('Numerical \\n',hessenberg_matrix(matr),\"\\n\\n\")\n",
        "print('Scipy \\n',sp.hessenberg(matr),\"\\n\\n\")\n",
        "print('Symmetrical matrixes have transforms to tridiagonal \\n',hessenberg_matrix(np.dot(matr,matr.T)),\"\\n\\n\")"
      ],
      "metadata": {
        "id": "fjvop0RZmCXL",
        "colab": {
          "base_uri": "https://localhost:8080/"
        },
        "outputId": "ac4cbd48-6e12-4014-b407-dc9bc5cdb752"
      },
      "execution_count": 21,
      "outputs": [
        {
          "output_type": "stream",
          "name": "stdout",
          "text": [
            "Numerical \n",
            " [[ 1.         -0.57735027  0.65158377 -1.13938826 -0.62338771  0.09667195\n",
            "   0.24729244  0.13612578  0.31171871 -0.60752746]\n",
            " [-1.73205081  2.33333333 -2.12035526  0.06957776 -0.14656923  0.39574085\n",
            "   0.53610558 -0.2493495   0.35196479 -0.26441972]\n",
            " [ 0.         -3.24893145  2.77192982  0.35173473 -0.03002383 -0.90439084\n",
            "  -0.12742524  0.81181017  0.39132701 -0.13404608]\n",
            " [ 0.         -0.         -1.70740606  0.18150993  0.7982813   0.07253171\n",
            "   0.15503943  0.46967106  0.1785959   0.23820885]\n",
            " [ 0.         -0.         -0.          0.98197934 -0.2271184  -0.1578842\n",
            "   1.01687435 -0.45799311 -1.1596867   0.06162409]\n",
            " [ 0.         -0.          0.         -0.         -0.67018798  0.12405987\n",
            "   0.43998667 -0.13139643 -0.85846142 -0.14459788]\n",
            " [ 0.         -0.         -0.         -0.          0.          1.47455029\n",
            "  -0.05691954 -0.65025074 -0.03538017 -0.14962379]\n",
            " [ 0.          0.          0.          0.          0.         -0.\n",
            "  -1.2962432   0.17877433  0.06427454 -0.27951417]\n",
            " [ 0.         -0.          0.          0.         -0.         -0.\n",
            "  -0.         -0.42039333 -0.6384517  -0.5626798 ]\n",
            " [ 0.         -0.         -0.         -0.          0.         -0.\n",
            "   0.          0.          1.24511388 -0.66711765]] \n",
            "\n",
            "\n",
            "Scipy \n",
            " [[ 1.         -0.57735027  0.65158377 -1.13938826 -0.62338771  0.09667195\n",
            "   0.24729244  0.13612578  0.31171871  0.60752746]\n",
            " [-1.73205081  2.33333333 -2.12035526  0.06957776 -0.14656923  0.39574085\n",
            "   0.53610558 -0.2493495   0.35196479  0.26441972]\n",
            " [ 0.         -3.24893145  2.77192982  0.35173473 -0.03002383 -0.90439084\n",
            "  -0.12742524  0.81181017  0.39132701  0.13404608]\n",
            " [ 0.          0.         -1.70740606  0.18150993  0.7982813   0.07253171\n",
            "   0.15503943  0.46967106  0.1785959  -0.23820885]\n",
            " [ 0.          0.          0.          0.98197934 -0.2271184  -0.1578842\n",
            "   1.01687435 -0.45799311 -1.1596867  -0.06162409]\n",
            " [ 0.          0.          0.          0.         -0.67018798  0.12405987\n",
            "   0.43998667 -0.13139643 -0.85846142  0.14459788]\n",
            " [ 0.          0.          0.          0.          0.          1.47455029\n",
            "  -0.05691954 -0.65025074 -0.03538017  0.14962379]\n",
            " [ 0.          0.          0.          0.          0.          0.\n",
            "  -1.2962432   0.17877433  0.06427454  0.27951417]\n",
            " [ 0.          0.          0.          0.          0.          0.\n",
            "   0.         -0.42039333 -0.6384517   0.5626798 ]\n",
            " [ 0.          0.          0.          0.          0.          0.\n",
            "   0.          0.         -1.24511388 -0.66711765]] \n",
            "\n",
            "\n",
            "Symmetrical matrixes have transforms to tridiagonal \n",
            " [[ 4.         -5.83095189 -0.          0.          0.          0.\n",
            "  -0.         -0.          0.          0.        ]\n",
            " [-5.83095189 29.         -9.42930351 -0.         -0.         -0.\n",
            "   0.         -0.          0.         -0.        ]\n",
            " [-0.         -9.42930351  5.70327489  1.69728363  0.          0.\n",
            "   0.         -0.         -0.         -0.        ]\n",
            " [ 0.          0.          1.69728363  2.96307291  1.74479828  0.\n",
            "   0.          0.         -0.          0.        ]\n",
            " [ 0.         -0.          0.          1.74479828  4.99108015  1.36585352\n",
            "   0.          0.          0.          0.        ]\n",
            " [ 0.         -0.          0.         -0.          1.36585352  1.36380028\n",
            "  -0.22375458 -0.         -0.         -0.        ]\n",
            " [-0.          0.         -0.         -0.          0.         -0.22375458\n",
            "   2.50999004 -0.89562813 -0.          0.        ]\n",
            " [-0.          0.          0.         -0.          0.         -0.\n",
            "  -0.89562813  1.13171538 -0.24322872 -0.        ]\n",
            " [ 0.          0.          0.          0.         -0.          0.\n",
            "  -0.         -0.24322872  0.33706635  0.        ]\n",
            " [ 0.         -0.          0.         -0.         -0.         -0.\n",
            "   0.          0.          0.          2.        ]] \n",
            "\n",
            "\n"
          ]
        }
      ]
    },
    {
      "cell_type": "code",
      "source": [
        "# QR - algorithm: you sholud using only Hessebergs matrix or tridiagonal matrix's\n",
        "import numpy as np\n",
        "import scipy.linalg as sp\n",
        "\n",
        "def QR_alg(A:list):\n",
        "  len_a = len(A)\n",
        "  iteration = 5000\n",
        "  q0 = np.eye(len_a)\n",
        "  for i in range(iteration):\n",
        "    q,r = QR_decompositon_h(A)\n",
        "    A = np.dot(r,q)\n",
        "    q0 =np.dot(q0, q)\n",
        "  #print(A)\n",
        "  eigen_values = sorted([A[i][i] for i in range(len_a)])\n",
        "  eigen_vect_matrix = np.array(q0.T)\n",
        "  return np.array(eigen_values), eigen_vect_matrix\n",
        "\n",
        "np.random.seed(2)\n",
        "lambda_l = 5\n",
        "test_one = np.random.uniform(0,2,(lambda_l ,lambda_l))\n",
        "eig_val, eig_vect = QR_alg( (test_one + np.conjugate(test_one).T)/2)\n",
        "ev, ec = np.linalg.eig((test_one + np.conjugate(test_one).T)/2)\n",
        "print('Numerical eigen values \\n',eig_val,'\\n')\n",
        "print('Numpy eigen values\\n',ev,'\\n')"
      ],
      "metadata": {
        "colab": {
          "base_uri": "https://localhost:8080/"
        },
        "id": "v7PoXPayZGKA",
        "outputId": "892d6c53-1ba3-47df-a1c1-98578edf64c6"
      },
      "execution_count": 22,
      "outputs": [
        {
          "output_type": "stream",
          "name": "stdout",
          "text": [
            "Numerical eigen values \n",
            " [-1.11677173 -0.54367852  0.15389132  0.78527436  4.21917444] \n",
            "\n",
            "Numpy eigen values\n",
            " [ 4.21917444  0.78527436 -1.11677173  0.15389132 -0.54367852] \n",
            "\n"
          ]
        }
      ]
    },
    {
      "cell_type": "code",
      "source": [
        "# SVD\n",
        "\n",
        "np.random.seed(9)\n",
        "m = 100\n",
        "n = 20\n",
        "a = np.random.randint(0,2,(m,n))\n",
        "\n",
        "def sv_d(A:list):\n",
        "  # m >= n\n",
        "  U = QR_alg(np.dot(A,A.T))[1].T\n",
        "  m = len(U)\n",
        "  V = QR_alg(np.dot(A.T,A))[1]\n",
        "  n = len(V)\n",
        "  v = (QR_alg(hessenberg_matrix(np.dot(A.T,A)))[0]**0.5)\n",
        "  singular = np.zeros((m,n))\n",
        "  for i in range(n):\n",
        "    singular[i][i] = v[n - i -1]\n",
        "  return U,singular,V\n",
        "\n",
        "np.around(sv_d(a)[1],4)"
      ],
      "metadata": {
        "colab": {
          "base_uri": "https://localhost:8080/"
        },
        "id": "FvEpsDC160Jy",
        "outputId": "256931e4-8d70-4856-86ae-1da36a21cd3a"
      },
      "execution_count": 24,
      "outputs": [
        {
          "output_type": "execute_result",
          "data": {
            "text/plain": [
              "array([[23.1142,  0.    ,  0.    , ...,  0.    ,  0.    ,  0.    ],\n",
              "       [ 0.    ,  6.6725,  0.    , ...,  0.    ,  0.    ,  0.    ],\n",
              "       [ 0.    ,  0.    ,  6.5447, ...,  0.    ,  0.    ,  0.    ],\n",
              "       ...,\n",
              "       [ 0.    ,  0.    ,  0.    , ...,  0.    ,  0.    ,  0.    ],\n",
              "       [ 0.    ,  0.    ,  0.    , ...,  0.    ,  0.    ,  0.    ],\n",
              "       [ 0.    ,  0.    ,  0.    , ...,  0.    ,  0.    ,  0.    ]])"
            ]
          },
          "metadata": {},
          "execution_count": 24
        }
      ]
    },
    {
      "cell_type": "code",
      "source": [
        "np.around(sv_d(a)[0],4)"
      ],
      "metadata": {
        "colab": {
          "base_uri": "https://localhost:8080/"
        },
        "id": "EuGsZHYG66qp",
        "outputId": "d59baa2d-2d7d-4bda-f140-19d4eeee493a"
      },
      "execution_count": 25,
      "outputs": [
        {
          "output_type": "execute_result",
          "data": {
            "text/plain": [
              "array([[ 0.0892,  0.084 , -0.1151, ..., -0.0991, -0.0292,  0.0027],\n",
              "       [ 0.039 ,  0.1265,  0.1213, ..., -0.0261, -0.1189,  0.0343],\n",
              "       [ 0.127 ,  0.055 , -0.093 , ...,  0.1749, -0.0453,  0.0963],\n",
              "       ...,\n",
              "       [ 0.0635,  0.0581, -0.189 , ..., -0.1556,  0.0981,  0.1607],\n",
              "       [ 0.1073,  0.2508,  0.1015, ...,  0.009 , -0.0555,  0.0539],\n",
              "       [ 0.0996, -0.1907, -0.0818, ...,  0.0569, -0.3045, -0.2045]])"
            ]
          },
          "metadata": {},
          "execution_count": 25
        }
      ]
    }
  ]
}